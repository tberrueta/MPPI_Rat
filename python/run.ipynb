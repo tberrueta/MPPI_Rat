{
 "cells": [
  {
   "cell_type": "markdown",
   "metadata": {},
   "source": [
    "# Model-Predictive Path Integral Control Example"
   ]
  },
  {
   "cell_type": "code",
   "execution_count": 1,
   "metadata": {},
   "outputs": [],
   "source": [
    "%load_ext autoreload\n",
    "%autoreload 2"
   ]
  },
  {
   "cell_type": "markdown",
   "metadata": {},
   "source": [
    "## Imports and Parameters"
   ]
  },
  {
   "cell_type": "code",
   "execution_count": 8,
   "metadata": {},
   "outputs": [],
   "source": [
    "import time\n",
    "from utils import * # imports integrators and other useful things\n",
    "from system import * # imports system dynamics and objective\n",
    "from MPPI import MPPI # imports controller\n",
    "import matplotlib.pyplot as plt\n",
    "%matplotlib widget\n",
    "\n",
    "###################\n",
    "# System parameters\n",
    "# x0 = np.array([0,0])\n",
    "x0 = np.array([0,0,np.pi/2])\n",
    "del_t = 0.05\n",
    "w_sz = 15\n",
    "ov = 1\n",
    "# dyn = lambda x, u: single_int(x,u) \n",
    "dyn = lambda x, u: diff_drive(x,u) \n",
    "\n",
    "######################\n",
    "# Objective parameters\n",
    "R = np.diag([0.0,0.0])\n",
    "# xd = np.array([5,2])\n",
    "# Q = np.diag([1,1])\n",
    "xd = np.array([5.,2.,0.])\n",
    "u0 = np.array([0.,0.])\n",
    "Q = np.diag([1,1,.01])\n",
    "w1 = 1 # weight given to tracking objective\n",
    "w2 = 1 # weight given to rattling objective\n",
    "# obj = lambda x, u: quadratic_objective(x,u,xd,Q,R)\n",
    "obj = lambda x, u: rattling_objective(x, u, del_t, w1, w2, None, w_sz, ov, xd, Q, R)\n",
    "\n",
    "#######################\n",
    "# Controller parameters\n",
    "noise_mean = np.array([0.0,0.0])\n",
    "noise_var = np.diag([0.2,0.05])\n",
    "samp_num = 100\n",
    "predictive_horizon = 20\n",
    "simulation_length = 500\n",
    "Temp = 1.0"
   ]
  },
  {
   "cell_type": "markdown",
   "metadata": {},
   "source": [
    "## Initialize Controller"
   ]
  },
  {
   "cell_type": "code",
   "execution_count": 9,
   "metadata": {},
   "outputs": [],
   "source": [
    "controller = MPPI(dyn, obj, x0, u0, K=samp_num, N=predictive_horizon, dt=del_t, lamb=Temp, noise_mu=noise_mean, noise_sigma=noise_var)"
   ]
  },
  {
   "cell_type": "markdown",
   "metadata": {},
   "source": [
    "## Main Loop"
   ]
  },
  {
   "cell_type": "code",
   "execution_count": 10,
   "metadata": {},
   "outputs": [
    {
     "name": "stdout",
     "output_type": "stream",
     "text": [
      "Time elapsed: 66.89s\n"
     ]
    }
   ],
   "source": [
    "tic = time.time()\n",
    "xlist = []\n",
    "ulist = []\n",
    "costlist = []\n",
    "for i in range(simulation_length):\n",
    "    u_star = controller.step(x0)[:,0]\n",
    "    x = integrate(dyn,x0,u_star,del_t)\n",
    "    x0 = np.copy(x)\n",
    "    xlist.append(x0)\n",
    "    ulist.append(u_star)\n",
    "    costlist.append(np.mean(controller.cost_total))\n",
    "xtraj = np.array(xlist).T\n",
    "utraj = np.array(ulist).T\n",
    "toc = time.time()\n",
    "print(\"Time elapsed: \"+str(np.round(toc-tic,2))+\"s\")"
   ]
  },
  {
   "cell_type": "markdown",
   "metadata": {},
   "source": [
    "## Plot"
   ]
  },
  {
   "cell_type": "code",
   "execution_count": 15,
   "metadata": {},
   "outputs": [
    {
     "data": {
      "application/vnd.jupyter.widget-view+json": {
       "model_id": "7d77421857a5427c95b600a5e4b77dab",
       "version_major": 2,
       "version_minor": 0
      },
      "text/plain": [
       "Canvas(toolbar=Toolbar(toolitems=[('Home', 'Reset original view', 'home', 'home'), ('Back', 'Back to previous …"
      ]
     },
     "metadata": {},
     "output_type": "display_data"
    }
   ],
   "source": [
    "plt.figure()\n",
    "plt.plot(xtraj[0],xtraj[1])\n",
    "plt.ylabel('y')\n",
    "plt.xlabel('x')\n",
    "plt.show()"
   ]
  },
  {
   "cell_type": "code",
   "execution_count": 11,
   "metadata": {},
   "outputs": [
    {
     "data": {
      "application/vnd.jupyter.widget-view+json": {
       "model_id": "29eb5e4017bc4277a0666ed0d3347e0d",
       "version_major": 2,
       "version_minor": 0
      },
      "text/plain": [
       "Canvas(toolbar=Toolbar(toolitems=[('Home', 'Reset original view', 'home', 'home'), ('Back', 'Back to previous …"
      ]
     },
     "metadata": {},
     "output_type": "display_data"
    }
   ],
   "source": [
    "tvec = np.linspace(0,simulation_length*del_t,simulation_length)\n",
    "plt.figure()\n",
    "plt.subplot(2,1,1)\n",
    "plt.plot(tvec,xtraj[0])\n",
    "plt.plot([tvec[0],tvec[-1]],[xd[0],xd[0]],'k--')\n",
    "plt.xlim([tvec[0],tvec[-1]])\n",
    "plt.ylabel('x')\n",
    "plt.subplot(2,1,2)\n",
    "plt.plot(tvec,xtraj[1])\n",
    "plt.plot([tvec[0],tvec[-1]],[xd[1],xd[1]],'k--')\n",
    "plt.xlim([tvec[0],tvec[-1]])\n",
    "plt.ylabel('y')\n",
    "plt.xlabel('Time (s)')\n",
    "plt.show()"
   ]
  },
  {
   "cell_type": "code",
   "execution_count": 12,
   "metadata": {},
   "outputs": [
    {
     "data": {
      "application/vnd.jupyter.widget-view+json": {
       "model_id": "e3caafb9a1e64a40b0aae957eb1799f4",
       "version_major": 2,
       "version_minor": 0
      },
      "text/plain": [
       "Canvas(toolbar=Toolbar(toolitems=[('Home', 'Reset original view', 'home', 'home'), ('Back', 'Back to previous …"
      ]
     },
     "metadata": {},
     "output_type": "display_data"
    }
   ],
   "source": [
    "plt.figure()\n",
    "rv = rattling_windows(xtraj.T, del_t, w_sz, ov)[0]\n",
    "tvec = np.linspace(0,len(rv)*del_t,len(rv))\n",
    "plt.plot(tvec,rv)\n",
    "plt.ylabel('Rattling')\n",
    "plt.xlabel('Time (s)')\n",
    "plt.xlim([tvec[0],tvec[-1]])\n",
    "plt.grid(True)\n",
    "plt.show()"
   ]
  },
  {
   "cell_type": "code",
   "execution_count": 13,
   "metadata": {},
   "outputs": [
    {
     "data": {
      "application/vnd.jupyter.widget-view+json": {
       "model_id": "bcdc3b25059b4aebacff46bfb0229942",
       "version_major": 2,
       "version_minor": 0
      },
      "text/plain": [
       "Canvas(toolbar=Toolbar(toolitems=[('Home', 'Reset original view', 'home', 'home'), ('Back', 'Back to previous …"
      ]
     },
     "metadata": {},
     "output_type": "display_data"
    }
   ],
   "source": [
    "tvec = np.linspace(0,simulation_length*del_t,simulation_length)\n",
    "plt.figure()\n",
    "plt.plot(tvec,costlist)\n",
    "plt.ylabel('Average Cost')\n",
    "plt.xlabel('Time (s)')\n",
    "plt.xlim([tvec[0],tvec[-1]])\n",
    "plt.grid(True)\n",
    "plt.show()"
   ]
  },
  {
   "cell_type": "code",
   "execution_count": 14,
   "metadata": {},
   "outputs": [
    {
     "data": {
      "application/vnd.jupyter.widget-view+json": {
       "model_id": "2a8a342016024cf68543fb427b3dfce4",
       "version_major": 2,
       "version_minor": 0
      },
      "text/plain": [
       "Canvas(toolbar=Toolbar(toolitems=[('Home', 'Reset original view', 'home', 'home'), ('Back', 'Back to previous …"
      ]
     },
     "metadata": {},
     "output_type": "display_data"
    }
   ],
   "source": [
    "tvec = np.linspace(0,simulation_length*del_t,simulation_length)\n",
    "plt.figure()\n",
    "c=0\n",
    "clist=[]\n",
    "for i in range(utraj.shape[1]):\n",
    "    c += np.sqrt(utraj[0,i]**2+utraj[0,i]**2)\n",
    "    clist.append(c)\n",
    "plt.plot(tvec,clist)\n",
    "plt.ylabel('Integrated Control Effort')\n",
    "plt.xlabel('Time (s)')\n",
    "plt.xlim([tvec[0],tvec[-1]])\n",
    "plt.grid(True)\n",
    "plt.show()"
   ]
  },
  {
   "cell_type": "code",
   "execution_count": null,
   "metadata": {},
   "outputs": [],
   "source": [
    "plt.close('all')"
   ]
  }
 ],
 "metadata": {
  "kernelspec": {
   "display_name": "Python 3",
   "language": "python",
   "name": "python3"
  },
  "language_info": {
   "codemirror_mode": {
    "name": "ipython",
    "version": 3
   },
   "file_extension": ".py",
   "mimetype": "text/x-python",
   "name": "python",
   "nbconvert_exporter": "python",
   "pygments_lexer": "ipython3",
   "version": "3.8.5"
  }
 },
 "nbformat": 4,
 "nbformat_minor": 4
}
